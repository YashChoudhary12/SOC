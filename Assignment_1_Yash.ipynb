{
  "nbformat": 4,
  "nbformat_minor": 0,
  "metadata": {
    "colab": {
      "provenance": []
    },
    "kernelspec": {
      "name": "python3",
      "display_name": "Python 3"
    },
    "language_info": {
      "name": "python"
    }
  },
  "cells": [
    {
      "cell_type": "code",
      "execution_count": 1,
      "metadata": {
        "id": "H61MEdwvIjF9"
      },
      "outputs": [],
      "source": [
        "import numpy as np\n",
        "import random\n",
        "import tensorflow as tf\n",
        "import tensorflow.keras as keras\n",
        "import matplotlib.pyplot as plt\n",
        "from keras.models import Sequential\n",
        "from keras.layers import Conv2D, MaxPooling2D, Flatten, Dense\n",
        "from keras.utils import to_categorical\n",
        "\n"
      ]
    },
    {
      "cell_type": "code",
      "source": [
        "data_train = np.loadtxt('mnist_train.csv', delimiter=',').T\n",
        "data_test = np.loadtxt('mnist_test.csv', delimiter=',').T\n",
        "\n",
        "# Select a subset of the data (first 10,000 samples)\n",
        "data_train = data_train[:, :10000]\n",
        "data_test = data_test[:, :10000]\n",
        "\n",
        "# Separate features and labels\n",
        "x_train = data_train[1:, :]  # All rows except the first one (features)\n",
        "y_train = data_train[0, :]   # First row (labels)\n",
        "\n",
        "x_test = data_test[1:, :]    # All rows except the first one (features)\n",
        "y_test = data_test[0, :]     # First row (labels)\n",
        "\n",
        "\n",
        "# One-hot encode the labels manually\n",
        "def one_hot_encode(y, num_classes):\n",
        "    one_hot = np.zeros((y.size, num_classes))\n",
        "    one_hot[np.arange(y.size), y.astype(int)] = 1\n",
        "    return one_hot\n",
        "\n",
        "num_classes = 10\n",
        "y_train = one_hot_encode(y_train, num_classes)\n",
        "y_test = one_hot_encode(y_test, num_classes)\n",
        "\n",
        "\n",
        "print(f\"x_train shape: {x_train.shape}\")\n",
        "print(f\"y_train shape: {y_train.shape}\")\n",
        "print(f\"x_test shape: {x_test.shape}\")\n",
        "print(f\"y_test shape: {y_test.shape}\")\n"
      ],
      "metadata": {
        "colab": {
          "base_uri": "https://localhost:8080/"
        },
        "id": "GFJOc5WjKemB",
        "outputId": "cff7d269-938e-4997-f1c5-0e9d5162b567"
      },
      "execution_count": 2,
      "outputs": [
        {
          "output_type": "stream",
          "name": "stdout",
          "text": [
            "x_train shape: (784, 10000)\n",
            "y_train shape: (10000, 10)\n",
            "x_test shape: (784, 10000)\n",
            "y_test shape: (10000, 10)\n"
          ]
        }
      ]
    },
    {
      "cell_type": "code",
      "source": [
        "index = random.randrange(0, x_train.shape[1])\n",
        "plt.imshow(x_train[:, index].reshape(28,28), cmap = 'gray')\n",
        "plt.show()"
      ],
      "metadata": {
        "id": "ldRu0Sg7Lyxa",
        "colab": {
          "base_uri": "https://localhost:8080/",
          "height": 430
        },
        "outputId": "93714977-23f0-4cf6-eabd-196018952fad"
      },
      "execution_count": 3,
      "outputs": [
        {
          "output_type": "display_data",
          "data": {
            "text/plain": [
              "<Figure size 640x480 with 1 Axes>"
            ],
            "image/png": "[encoded data removed]"
          },
          "metadata": {}
        }
      ]
    },
    {
      "cell_type": "code",
      "source": [
        "# Build the CNN model\n",
        "model = Sequential([\n",
        "    Conv2D(32, (3, 3), activation='relu', input_shape=(28, 28, 1)),\n",
        "    MaxPooling2D((2, 2)),\n",
        "    Conv2D(64, (3, 3), activation='relu'),\n",
        "    MaxPooling2D((2, 2)),\n",
        "    Flatten(),\n",
        "    Dense(64, activation='relu'),\n",
        "    Dense(10, activation='softmax')\n",
        "])"
      ],
      "metadata": {
        "id": "Z7nXyEhLP4UP"
      },
      "execution_count": 4,
      "outputs": []
    },
    {
      "cell_type": "code",
      "source": [
        "# Compile the model\n",
        "model.compile(optimizer='adam',\n",
        "              loss='categorical_crossentropy',\n",
        "              metrics=['accuracy'])"
      ],
      "metadata": {
        "id": "hrqkTARgDj_9"
      },
      "execution_count": 5,
      "outputs": []
    },
    {
      "cell_type": "code",
      "source": [
        "# Train the model\n",
        "x_train_reshaped = x_train.T.reshape(-1, 28, 28, 1) # Transpose and reshape x_train\n",
        "x_test_reshaped = x_test.T.reshape(-1, 28, 28, 1)  # Also reshape x_test for validation data\n",
        "\n",
        "\n",
        "print(\"Shape of x_train_reshaped:\", x_train_reshaped.shape)\n",
        "print(\"Shape of y_train:\", y_train.shape)\n",
        "print(\"Shape of x_test_reshaped:\", x_test_reshaped.shape)\n",
        "print(\"Shape of y_test:\", y_test.shape)\n",
        "\n",
        "# Ensure data is in float32 format, which is commonly used for neural networks\n",
        "x_train_reshaped = x_train_reshaped.astype('float32')\n",
        "x_test_reshaped = x_test_reshaped.astype('float32')\n",
        "\n",
        "# Normalize pixel values to be between 0 and 1\n",
        "x_train_reshaped /= 255.0\n",
        "x_test_reshaped /= 255.0\n",
        "\n",
        "# Run the model in eager mode for more detailed error messages\n",
        "model.compile(optimizer='adam',\n",
        "              loss='categorical_crossentropy',\n",
        "              metrics=['accuracy'],\n",
        "              run_eagerly=True)\n",
        "\n",
        "model.fit(x_train_reshaped, y_train, epochs=5, batch_size=64,\n",
        "          validation_data=(x_test_reshaped, y_test))"
      ],
      "metadata": {
        "id": "E2BIpYWHDlcs",
        "colab": {
          "base_uri": "https://localhost:8080/"
        },
        "outputId": "27c6930a-74d0-4b75-fb2a-2d7e81d79ce4"
      },
      "execution_count": 6,
      "outputs": [
        {
          "output_type": "stream",
          "name": "stdout",
          "text": [
            "Shape of x_train_reshaped: (10000, 28, 28, 1)\n",
            "Shape of y_train: (10000, 10)\n",
            "Shape of x_test_reshaped: (10000, 28, 28, 1)\n",
            "Shape of y_test: (10000, 10)\n",
            "Epoch 1/5\n",
            "157/157 [==============================] - 23s 147ms/step - loss: 0.5155 - accuracy: 0.8535 - val_loss: 0.1757 - val_accuracy: 0.9501\n",
            "Epoch 2/5\n",
            "157/157 [==============================] - 20s 129ms/step - loss: 0.1303 - accuracy: 0.9610 - val_loss: 0.1016 - val_accuracy: 0.9681\n",
            "Epoch 3/5\n",
            "157/157 [==============================] - 18s 118ms/step - loss: 0.0863 - accuracy: 0.9744 - val_loss: 0.0760 - val_accuracy: 0.9746\n",
            "Epoch 4/5\n",
            "157/157 [==============================] - 20s 127ms/step - loss: 0.0667 - accuracy: 0.9799 - val_loss: 0.0650 - val_accuracy: 0.9785\n",
            "Epoch 5/5\n",
            "157/157 [==============================] - 19s 124ms/step - loss: 0.0468 - accuracy: 0.9864 - val_loss: 0.0686 - val_accuracy: 0.9762\n"
          ]
        },
        {
          "output_type": "execute_result",
          "data": {
            "text/plain": [
              "<keras.src.callbacks.History at 0x7e9a12dc6530>"
            ]
          },
          "metadata": {},
          "execution_count": 6
        }
      ]
    },
    {
      "cell_type": "code",
      "source": [
        "idx = int(random.randrange(0,x_test.shape[1])) # Select index along the correct axis\n",
        "image = x_test[:, idx] # Select the image at the random index\n",
        "plt.imshow(image.reshape((28,28)),cmap='gray')\n",
        "plt.show()\n",
        "\n",
        "# Predict the digit\n",
        "prediction = np.argmax(model.predict(image.reshape(1, 28, 28, 1))) # Reshape the image to match the model's input shape\n",
        "\n",
        "print(\"Predicted Digit:\", prediction)\n"
      ],
      "metadata": {
        "id": "QaEZcqCVDmwW",
        "colab": {
          "base_uri": "https://localhost:8080/",
          "height": 464
        },
        "outputId": "e99e54f8-f2ed-475c-d91b-d337d53e0e6a"
      },
      "execution_count": 10,
      "outputs": [
        {
          "output_type": "display_data",
          "data": {
            "text/plain": [
              "<Figure size 640x480 with 1 Axes>"
            ],
            "image/png": "[encoded data removed]"
          },
          "metadata": {}
        },
        {
          "output_type": "stream",
          "name": "stdout",
          "text": [
            "1/1 [==============================] - 0s 23ms/step\n",
            "Predicted Digit: 9\n"
          ]
        }
      ]
    },
    {
      "cell_type": "code",
      "source": [],
      "metadata": {
        "id": "TJjF1hL8Jeg9"
      },
      "execution_count": null,
      "outputs": []
    }
  ]
}