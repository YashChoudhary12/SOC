{
  "nbformat": 4,
  "nbformat_minor": 0,
  "metadata": {
    "colab": {
      "provenance": []
    },
    "kernelspec": {
      "name": "python3",
      "display_name": "Python 3"
    },
    "language_info": {
      "name": "python"
    }
  },
  "cells": [
    {
      "cell_type": "code",
      "execution_count": 1,
      "metadata": {
        "id": "p-PhqVYKutjH"
      },
      "outputs": [],
      "source": [
        "import numpy as np\n",
        "import matplotlib.pyplot as plt\n",
        "import random\n",
        "from keras import models\n",
        "from keras.layers import Dense, Dropout, Flatten, Conv2D, MaxPool2D\n",
        "from keras.optimizers import Adam\n",
        "from keras.utils import to_categorical"
      ]
    },
    {
      "cell_type": "code",
      "source": [
        "!pip install deeplake"
      ],
      "metadata": {
        "colab": {
          "base_uri": "https://localhost:8080/"
        },
        "id": "dFjjZ5WLvEOy",
        "outputId": "eabc4886-f6a2-4cc0-b81c-3a035125b9bb"
      },
      "execution_count": 2,
      "outputs": [
        {
          "output_type": "stream",
          "name": "stdout",
          "text": [
            "Requirement already satisfied: deeplake in /usr/local/lib/python3.10/dist-packages (3.9.14)\n",
            "Requirement already satisfied: numpy<2.0 in /usr/local/lib/python3.10/dist-packages (from deeplake) (1.25.2)\n",
            "Requirement already satisfied: pillow~=10.2.0 in /usr/local/lib/python3.10/dist-packages (from deeplake) (10.2.0)\n",
            "Requirement already satisfied: boto3 in /usr/local/lib/python3.10/dist-packages (from deeplake) (1.34.131)\n",
            "Requirement already satisfied: click in /usr/local/lib/python3.10/dist-packages (from deeplake) (8.1.7)\n",
            "Requirement already satisfied: pathos in /usr/local/lib/python3.10/dist-packages (from deeplake) (0.3.2)\n",
            "Requirement already satisfied: humbug>=0.3.1 in /usr/local/lib/python3.10/dist-packages (from deeplake) (0.3.2)\n",
            "Requirement already satisfied: tqdm in /usr/local/lib/python3.10/dist-packages (from deeplake) (4.66.4)\n",
            "Requirement already satisfied: lz4 in /usr/local/lib/python3.10/dist-packages (from deeplake) (4.3.3)\n",
            "Requirement already satisfied: pyjwt in /usr/lib/python3/dist-packages (from deeplake) (2.3.0)\n",
            "Requirement already satisfied: pydantic in /usr/local/lib/python3.10/dist-packages (from deeplake) (2.8.2)\n",
            "Requirement already satisfied: libdeeplake==0.0.136 in /usr/local/lib/python3.10/dist-packages (from deeplake) (0.0.136)\n",
            "Requirement already satisfied: aioboto3>=10.4.0 in /usr/local/lib/python3.10/dist-packages (from deeplake) (13.1.1)\n",
            "Requirement already satisfied: nest-asyncio in /usr/local/lib/python3.10/dist-packages (from deeplake) (1.6.0)\n",
            "Requirement already satisfied: dill in /usr/local/lib/python3.10/dist-packages (from libdeeplake==0.0.136->deeplake) (0.3.8)\n",
            "Requirement already satisfied: aiobotocore[boto3]==2.13.1 in /usr/local/lib/python3.10/dist-packages (from aioboto3>=10.4.0->deeplake) (2.13.1)\n",
            "Requirement already satisfied: aiofiles>=23.2.1 in /usr/local/lib/python3.10/dist-packages (from aioboto3>=10.4.0->deeplake) (24.1.0)\n",
            "Requirement already satisfied: botocore<1.34.132,>=1.34.70 in /usr/local/lib/python3.10/dist-packages (from aiobotocore[boto3]==2.13.1->aioboto3>=10.4.0->deeplake) (1.34.131)\n",
            "Requirement already satisfied: aiohttp<4.0.0,>=3.9.2 in /usr/local/lib/python3.10/dist-packages (from aiobotocore[boto3]==2.13.1->aioboto3>=10.4.0->deeplake) (3.9.5)\n",
            "Requirement already satisfied: wrapt<2.0.0,>=1.10.10 in /usr/local/lib/python3.10/dist-packages (from aiobotocore[boto3]==2.13.1->aioboto3>=10.4.0->deeplake) (1.14.1)\n",
            "Requirement already satisfied: aioitertools<1.0.0,>=0.5.1 in /usr/local/lib/python3.10/dist-packages (from aiobotocore[boto3]==2.13.1->aioboto3>=10.4.0->deeplake) (0.11.0)\n",
            "Requirement already satisfied: jmespath<2.0.0,>=0.7.1 in /usr/local/lib/python3.10/dist-packages (from boto3->deeplake) (1.0.1)\n",
            "Requirement already satisfied: s3transfer<0.11.0,>=0.10.0 in /usr/local/lib/python3.10/dist-packages (from boto3->deeplake) (0.10.2)\n",
            "Requirement already satisfied: requests in /usr/local/lib/python3.10/dist-packages (from humbug>=0.3.1->deeplake) (2.31.0)\n",
            "Requirement already satisfied: ppft>=1.7.6.8 in /usr/local/lib/python3.10/dist-packages (from pathos->deeplake) (1.7.6.8)\n",
            "Requirement already satisfied: pox>=0.3.4 in /usr/local/lib/python3.10/dist-packages (from pathos->deeplake) (0.3.4)\n",
            "Requirement already satisfied: multiprocess>=0.70.16 in /usr/local/lib/python3.10/dist-packages (from pathos->deeplake) (0.70.16)\n",
            "Requirement already satisfied: annotated-types>=0.4.0 in /usr/local/lib/python3.10/dist-packages (from pydantic->deeplake) (0.7.0)\n",
            "Requirement already satisfied: pydantic-core==2.20.1 in /usr/local/lib/python3.10/dist-packages (from pydantic->deeplake) (2.20.1)\n",
            "Requirement already satisfied: typing-extensions>=4.6.1 in /usr/local/lib/python3.10/dist-packages (from pydantic->deeplake) (4.12.2)\n",
            "Requirement already satisfied: python-dateutil<3.0.0,>=2.1 in /usr/local/lib/python3.10/dist-packages (from botocore<1.34.132,>=1.34.70->aiobotocore[boto3]==2.13.1->aioboto3>=10.4.0->deeplake) (2.8.2)\n",
            "Requirement already satisfied: urllib3!=2.2.0,<3,>=1.25.4 in /usr/local/lib/python3.10/dist-packages (from botocore<1.34.132,>=1.34.70->aiobotocore[boto3]==2.13.1->aioboto3>=10.4.0->deeplake) (2.0.7)\n",
            "Requirement already satisfied: charset-normalizer<4,>=2 in /usr/local/lib/python3.10/dist-packages (from requests->humbug>=0.3.1->deeplake) (3.3.2)\n",
            "Requirement already satisfied: idna<4,>=2.5 in /usr/local/lib/python3.10/dist-packages (from requests->humbug>=0.3.1->deeplake) (3.7)\n",
            "Requirement already satisfied: certifi>=2017.4.17 in /usr/local/lib/python3.10/dist-packages (from requests->humbug>=0.3.1->deeplake) (2024.7.4)\n",
            "Requirement already satisfied: aiosignal>=1.1.2 in /usr/local/lib/python3.10/dist-packages (from aiohttp<4.0.0,>=3.9.2->aiobotocore[boto3]==2.13.1->aioboto3>=10.4.0->deeplake) (1.3.1)\n",
            "Requirement already satisfied: attrs>=17.3.0 in /usr/local/lib/python3.10/dist-packages (from aiohttp<4.0.0,>=3.9.2->aiobotocore[boto3]==2.13.1->aioboto3>=10.4.0->deeplake) (23.2.0)\n",
            "Requirement already satisfied: frozenlist>=1.1.1 in /usr/local/lib/python3.10/dist-packages (from aiohttp<4.0.0,>=3.9.2->aiobotocore[boto3]==2.13.1->aioboto3>=10.4.0->deeplake) (1.4.1)\n",
            "Requirement already satisfied: multidict<7.0,>=4.5 in /usr/local/lib/python3.10/dist-packages (from aiohttp<4.0.0,>=3.9.2->aiobotocore[boto3]==2.13.1->aioboto3>=10.4.0->deeplake) (6.0.5)\n",
            "Requirement already satisfied: yarl<2.0,>=1.0 in /usr/local/lib/python3.10/dist-packages (from aiohttp<4.0.0,>=3.9.2->aiobotocore[boto3]==2.13.1->aioboto3>=10.4.0->deeplake) (1.9.4)\n",
            "Requirement already satisfied: async-timeout<5.0,>=4.0 in /usr/local/lib/python3.10/dist-packages (from aiohttp<4.0.0,>=3.9.2->aiobotocore[boto3]==2.13.1->aioboto3>=10.4.0->deeplake) (4.0.3)\n",
            "Requirement already satisfied: six>=1.5 in /usr/local/lib/python3.10/dist-packages (from python-dateutil<3.0.0,>=2.1->botocore<1.34.132,>=1.34.70->aiobotocore[boto3]==2.13.1->aioboto3>=10.4.0->deeplake) (1.16.0)\n"
          ]
        }
      ]
    },
    {
      "cell_type": "code",
      "source": [
        "import deeplake\n",
        "ds = deeplake.load('hub://activeloop/fer2013-train')"
      ],
      "metadata": {
        "colab": {
          "base_uri": "https://localhost:8080/"
        },
        "id": "zfAD-JiEvHEK",
        "outputId": "5ffffb97-5f7d-415f-b3cc-6c1ff7705496"
      },
      "execution_count": 3,
      "outputs": [
        {
          "output_type": "stream",
          "name": "stderr",
          "text": [
            "\\"
          ]
        },
        {
          "output_type": "stream",
          "name": "stdout",
          "text": [
            "Opening dataset in read-only mode as you don't have write permissions.\n"
          ]
        },
        {
          "output_type": "stream",
          "name": "stderr",
          "text": [
            "|"
          ]
        },
        {
          "output_type": "stream",
          "name": "stdout",
          "text": [
            "This dataset can be visualized in Jupyter Notebook by ds.visualize() or at https://app.activeloop.ai/activeloop/fer2013-train\n",
            "\n"
          ]
        },
        {
          "output_type": "stream",
          "name": "stderr",
          "text": [
            "/"
          ]
        },
        {
          "output_type": "stream",
          "name": "stdout",
          "text": [
            "hub://activeloop/fer2013-train loaded successfully.\n",
            "\n"
          ]
        },
        {
          "output_type": "stream",
          "name": "stderr",
          "text": [
            "\r \r\r\r"
          ]
        }
      ]
    },
    {
      "cell_type": "code",
      "source": [
        "print(ds)"
      ],
      "metadata": {
        "colab": {
          "base_uri": "https://localhost:8080/"
        },
        "id": "lD6yXAniwT75",
        "outputId": "87ac0885-fff7-402e-f3fd-4e558642006d"
      },
      "execution_count": 4,
      "outputs": [
        {
          "output_type": "stream",
          "name": "stdout",
          "text": [
            "Dataset(path='hub://activeloop/fer2013-train', read_only=True, tensors=['images', 'labels'])\n"
          ]
        }
      ]
    },
    {
      "cell_type": "code",
      "source": [
        "# Define a function to preprocess the images and labels\n",
        "def preprocess_data(ds):\n",
        "    images = []\n",
        "    labels = []\n",
        "    for sample in ds:\n",
        "        images.append(sample['images'].numpy())\n",
        "        labels.append(sample['labels'].numpy())\n",
        "    images = np.array(images)\n",
        "    labels = np.array(labels)\n",
        "    labels = to_categorical(labels, num_classes=7)\n",
        "    return images, labels\n",
        "\n",
        "images, labels = preprocess_data(ds)\n",
        "\n",
        "# Normalize the images\n",
        "images = images / 255.0\n",
        "\n",
        "from sklearn.model_selection import train_test_split\n",
        "\n",
        "# Splitting the data into 80% training and 20% remaining (validation + test)\n",
        "train_images, remaining_images, train_labels, remaining_labels = train_test_split(images, labels, test_size=0.2, random_state=42, stratify=labels)\n",
        "\n",
        "# Splitting the remaining data into 10% validation and 10% test\n",
        "val_images, test_images, val_labels, test_labels = train_test_split(remaining_images, remaining_labels, test_size=0.5, random_state=42, stratify=remaining_labels)"
      ],
      "metadata": {
        "id": "G8Wg-lu3xGmi"
      },
      "execution_count": 7,
      "outputs": []
    },
    {
      "cell_type": "code",
      "source": [
        "model = models.Sequential()\n",
        "\n",
        "model.add(Conv2D(32, kernel_size=(3, 3), activation='relu', input_shape=(48, 48, 1)))  # Input layer\n",
        "model.add(MaxPool2D(pool_size=(2, 2)))\n",
        "model.add(Dropout(0.25))\n",
        "\n",
        "model.add(Conv2D(64, kernel_size=(3, 3), activation='relu'))\n",
        "model.add(MaxPool2D(pool_size=(2, 2)))\n",
        "model.add(Dropout(0.25))\n",
        "\n",
        "model.add(Conv2D(128, kernel_size=(3, 3), activation='relu'))\n",
        "model.add(MaxPool2D(pool_size=(2, 2)))\n",
        "model.add(Dropout(0.25))\n",
        "\n",
        "model.add(Flatten())\n",
        "model.add(Dense(512, activation='relu'))\n",
        "model.add(Dropout(0.5))\n",
        "model.add(Dense(7, activation='softmax'))"
      ],
      "metadata": {
        "id": "oay7Q4D-xqe_"
      },
      "execution_count": 8,
      "outputs": []
    },
    {
      "cell_type": "code",
      "source": [
        "model.compile(optimizer=Adam(), loss='categorical_crossentropy', metrics=['accuracy'])\n",
        "\n",
        "# Train the model\n",
        "\n",
        "model.fit(train_images, train_labels, batch_size=64, epochs=25, validation_data=(val_images, val_labels))"
      ],
      "metadata": {
        "colab": {
          "base_uri": "https://localhost:8080/"
        },
        "id": "VLXENep3zZIK",
        "outputId": "e625cd3a-ee77-4222-9b48-801fe176ce28"
      },
      "execution_count": 10,
      "outputs": [
        {
          "output_type": "stream",
          "name": "stdout",
          "text": [
            "Epoch 1/25\n",
            "359/359 [==============================] - 96s 264ms/step - loss: 1.5971 - accuracy: 0.3751 - val_loss: 1.4928 - val_accuracy: 0.4302\n",
            "Epoch 2/25\n",
            "359/359 [==============================] - 88s 245ms/step - loss: 1.4566 - accuracy: 0.4352 - val_loss: 1.3844 - val_accuracy: 0.4775\n",
            "Epoch 3/25\n",
            "359/359 [==============================] - 88s 246ms/step - loss: 1.3713 - accuracy: 0.4751 - val_loss: 1.3145 - val_accuracy: 0.5099\n",
            "Epoch 4/25\n",
            "359/359 [==============================] - 90s 249ms/step - loss: 1.3115 - accuracy: 0.5015 - val_loss: 1.2728 - val_accuracy: 0.5200\n",
            "Epoch 5/25\n",
            "359/359 [==============================] - 87s 242ms/step - loss: 1.2714 - accuracy: 0.5167 - val_loss: 1.2333 - val_accuracy: 0.5367\n",
            "Epoch 6/25\n",
            "359/359 [==============================] - 92s 258ms/step - loss: 1.2251 - accuracy: 0.5320 - val_loss: 1.2199 - val_accuracy: 0.5305\n",
            "Epoch 7/25\n",
            "359/359 [==============================] - 88s 245ms/step - loss: 1.2023 - accuracy: 0.5418 - val_loss: 1.1822 - val_accuracy: 0.5423\n",
            "Epoch 8/25\n",
            "359/359 [==============================] - 87s 243ms/step - loss: 1.1605 - accuracy: 0.5570 - val_loss: 1.1811 - val_accuracy: 0.5556\n",
            "Epoch 9/25\n",
            "359/359 [==============================] - 88s 244ms/step - loss: 1.1440 - accuracy: 0.5676 - val_loss: 1.1743 - val_accuracy: 0.5583\n",
            "Epoch 10/25\n",
            "359/359 [==============================] - 91s 254ms/step - loss: 1.1154 - accuracy: 0.5794 - val_loss: 1.1631 - val_accuracy: 0.5604\n",
            "Epoch 11/25\n",
            "359/359 [==============================] - 88s 245ms/step - loss: 1.0826 - accuracy: 0.5897 - val_loss: 1.1446 - val_accuracy: 0.5733\n",
            "Epoch 12/25\n",
            "359/359 [==============================] - 87s 242ms/step - loss: 1.0644 - accuracy: 0.5974 - val_loss: 1.1466 - val_accuracy: 0.5709\n",
            "Epoch 13/25\n",
            "359/359 [==============================] - 90s 252ms/step - loss: 1.0444 - accuracy: 0.6059 - val_loss: 1.1333 - val_accuracy: 0.5758\n",
            "Epoch 14/25\n",
            "359/359 [==============================] - 87s 243ms/step - loss: 1.0248 - accuracy: 0.6134 - val_loss: 1.1323 - val_accuracy: 0.5744\n",
            "Epoch 15/25\n",
            "359/359 [==============================] - 88s 245ms/step - loss: 1.0033 - accuracy: 0.6197 - val_loss: 1.1254 - val_accuracy: 0.5831\n",
            "Epoch 16/25\n",
            "359/359 [==============================] - 90s 252ms/step - loss: 0.9833 - accuracy: 0.6299 - val_loss: 1.1279 - val_accuracy: 0.5841\n",
            "Epoch 17/25\n",
            "359/359 [==============================] - 88s 245ms/step - loss: 0.9687 - accuracy: 0.6362 - val_loss: 1.1153 - val_accuracy: 0.5834\n",
            "Epoch 18/25\n",
            "359/359 [==============================] - 87s 242ms/step - loss: 0.9390 - accuracy: 0.6469 - val_loss: 1.1264 - val_accuracy: 0.5862\n",
            "Epoch 19/25\n",
            "359/359 [==============================] - 88s 244ms/step - loss: 0.9263 - accuracy: 0.6531 - val_loss: 1.1538 - val_accuracy: 0.5758\n",
            "Epoch 20/25\n",
            "359/359 [==============================] - 88s 246ms/step - loss: 0.9142 - accuracy: 0.6595 - val_loss: 1.1371 - val_accuracy: 0.5845\n",
            "Epoch 21/25\n",
            "359/359 [==============================] - 87s 243ms/step - loss: 0.8947 - accuracy: 0.6621 - val_loss: 1.1246 - val_accuracy: 0.5841\n",
            "Epoch 22/25\n",
            "359/359 [==============================] - 87s 243ms/step - loss: 0.8846 - accuracy: 0.6660 - val_loss: 1.1296 - val_accuracy: 0.5831\n",
            "Epoch 23/25\n",
            "359/359 [==============================] - 91s 252ms/step - loss: 0.8668 - accuracy: 0.6767 - val_loss: 1.1474 - val_accuracy: 0.5845\n",
            "Epoch 24/25\n",
            "359/359 [==============================] - 87s 242ms/step - loss: 0.8488 - accuracy: 0.6828 - val_loss: 1.1264 - val_accuracy: 0.5970\n",
            "Epoch 25/25\n",
            "359/359 [==============================] - 87s 244ms/step - loss: 0.8227 - accuracy: 0.6945 - val_loss: 1.1686 - val_accuracy: 0.5792\n"
          ]
        },
        {
          "output_type": "execute_result",
          "data": {
            "text/plain": [
              "<keras.src.callbacks.History at 0x7bcff0b15d80>"
            ]
          },
          "metadata": {},
          "execution_count": 10
        }
      ]
    },
    {
      "cell_type": "code",
      "source": [
        "score = model.evaluate(test_images, test_labels, verbose=0)  # Use 'test_images' and 'test_labels'\n",
        "print(f'Test loss: {score[0]}')\n",
        "print(f'Test accuracy: {score[1]}')"
      ],
      "metadata": {
        "colab": {
          "base_uri": "https://localhost:8080/"
        },
        "id": "bdO8Z8Y0za71",
        "outputId": "d1e80f74-c6ea-48e4-a119-9b6e3837d990"
      },
      "execution_count": 12,
      "outputs": [
        {
          "output_type": "stream",
          "name": "stdout",
          "text": [
            "Test loss: 1.1540886163711548\n",
            "Test accuracy: 0.5921281576156616\n"
          ]
        }
      ]
    },
    {
      "cell_type": "code",
      "source": [
        "emotion_labels = ['Angry', 'Disgust', 'Fear', 'Happy', 'Sad', 'Surprise', 'Neutral']\n",
        "\n",
        "random_index = random.randint(0, test_images.shape[0] - 1)\n",
        "random_image = test_images[random_index]\n",
        "random_label = test_labels[random_index]\n",
        "\n",
        "# Predict the emotion of the random image\n",
        "prediction = model.predict(np.expand_dims(random_image, axis=0))\n",
        "predicted_emotion = emotion_labels[np.argmax(prediction)]\n",
        "\n",
        "plt.imshow(random_image.squeeze(), cmap='gray')\n",
        "plt.title(f'Predicted Emotion: {predicted_emotion}')\n",
        "plt.axis('off')\n",
        "plt.show()"
      ],
      "metadata": {
        "colab": {
          "base_uri": "https://localhost:8080/",
          "height": 445
        },
        "id": "JKrPXzUm7zXl",
        "outputId": "2299df33-b3bf-4e3f-9051-447fbb2378b5"
      },
      "execution_count": 14,
      "outputs": [
        {
          "output_type": "stream",
          "name": "stdout",
          "text": [
            "1/1 [==============================] - 0s 337ms/step\n"
          ]
        },
        {
          "output_type": "display_data",
          "data": {
            "text/plain": [
              "<Figure size 640x480 with 1 Axes>"
            ],
            "image/png": "[encoded data removed]"
          },
          "metadata": {}
        }
      ]
    },
    {
      "cell_type": "code",
      "source": [],
      "metadata": {
        "id": "8cy-SOk6ufd-"
      },
      "execution_count": null,
      "outputs": []
    }
  ]
}